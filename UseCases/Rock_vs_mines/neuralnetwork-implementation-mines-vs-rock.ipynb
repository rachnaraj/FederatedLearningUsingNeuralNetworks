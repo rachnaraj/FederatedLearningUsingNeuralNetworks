{
 "cells": [
  {
   "cell_type": "code",
   "execution_count": 1,
   "id": "10d266fd",
   "metadata": {
    "_cell_guid": "b1076dfc-b9ad-4769-8c92-a6c4dae69d19",
    "_uuid": "8f2839f25d086af736a60e9eeb907d3b93b6e0e5",
    "execution": {
     "iopub.execute_input": "2021-09-22T13:47:44.909088Z",
     "iopub.status.busy": "2021-09-22T13:47:44.907255Z",
     "iopub.status.idle": "2021-09-22T13:47:44.930784Z",
     "shell.execute_reply": "2021-09-22T13:47:44.931534Z",
     "shell.execute_reply.started": "2021-09-22T12:21:59.496024Z"
    },
    "papermill": {
     "duration": 0.054763,
     "end_time": "2021-09-22T13:47:44.931917",
     "exception": false,
     "start_time": "2021-09-22T13:47:44.877154",
     "status": "completed"
    },
    "tags": []
   },
   "outputs": [
    {
     "name": "stdout",
     "output_type": "stream",
     "text": [
      "/kaggle/input/mines-vs-rocks/sonar.all-data.csv\n"
     ]
    }
   ],
   "source": [
    "# This Python 3 environment comes with many helpful analytics libraries installed\n",
    "# It is defined by the kaggle/python Docker image: https://github.com/kaggle/docker-python\n",
    "# For example, here's several helpful packages to load\n",
    "\n",
    "import numpy as np # linear algebra\n",
    "import pandas as pd # data processing, CSV file I/O (e.g. pd.read_csv)\n",
    "\n",
    "# Input data files are available in the read-only \"../input/\" directory\n",
    "# For example, running this (by clicking run or pressing Shift+Enter) will list all files under the input directory\n",
    "\n",
    "import os\n",
    "for dirname, _, filenames in os.walk('/kaggle/input'):\n",
    "    for filename in filenames:\n",
    "        print(os.path.join(dirname, filename))\n",
    "\n",
    "# You can write up to 20GB to the current directory (/kaggle/working/) that gets preserved as output when you create a version using \"Save & Run All\" \n",
    "# You can also write temporary files to /kaggle/temp/, but they won't be saved outside of the current session"
   ]
  },
  {
   "cell_type": "markdown",
   "id": "c06f67a7",
   "metadata": {
    "papermill": {
     "duration": 0.024195,
     "end_time": "2021-09-22T13:47:44.982011",
     "exception": false,
     "start_time": "2021-09-22T13:47:44.957816",
     "status": "completed"
    },
    "tags": []
   },
   "source": [
    "### Deep Learning Solution\n",
    "* The aim behind this notebook is to implement and test the effect of Dropout on Neural Network.\n",
    "* Dropout in Neural Network is used to overcome the problem of overfitting in NN\n",
    "* It is a binary classification problem that requires a model to differentiate rocks from metal cylinders."
   ]
  },
  {
   "cell_type": "code",
   "execution_count": 2,
   "id": "fc52fb42",
   "metadata": {
    "execution": {
     "iopub.execute_input": "2021-09-22T13:47:45.034804Z",
     "iopub.status.busy": "2021-09-22T13:47:45.033791Z",
     "iopub.status.idle": "2021-09-22T13:47:51.268332Z",
     "shell.execute_reply": "2021-09-22T13:47:51.268855Z",
     "shell.execute_reply.started": "2021-09-22T13:10:34.754045Z"
    },
    "papermill": {
     "duration": 6.262475,
     "end_time": "2021-09-22T13:47:51.269052",
     "exception": false,
     "start_time": "2021-09-22T13:47:45.006577",
     "status": "completed"
    },
    "tags": []
   },
   "outputs": [
    {
     "name": "stderr",
     "output_type": "stream",
     "text": [
      "2021-09-22 13:47:46.675230: W tensorflow/stream_executor/platform/default/dso_loader.cc:60] Could not load dynamic library 'libcudart.so.11.0'; dlerror: libcudart.so.11.0: cannot open shared object file: No such file or directory; LD_LIBRARY_PATH: /opt/conda/lib\n",
      "2021-09-22 13:47:46.675356: I tensorflow/stream_executor/cuda/cudart_stub.cc:29] Ignore above cudart dlerror if you do not have a GPU set up on your machine.\n"
     ]
    }
   ],
   "source": [
    "# importing libraries\n",
    "import numpy as np\n",
    "import pandas as pd\n",
    "import matplotlib.pyplot as plt\n",
    "import seaborn as sns\n",
    "\n",
    "import tensorflow as tf\n",
    "from tensorflow import keras\n",
    "\n",
    "import warnings\n",
    "warnings.filterwarnings('ignore')\n",
    "\n"
   ]
  },
  {
   "cell_type": "code",
   "execution_count": 3,
   "id": "0c0e49ed",
   "metadata": {
    "execution": {
     "iopub.execute_input": "2021-09-22T13:47:51.324090Z",
     "iopub.status.busy": "2021-09-22T13:47:51.321621Z",
     "iopub.status.idle": "2021-09-22T13:47:51.388342Z",
     "shell.execute_reply": "2021-09-22T13:47:51.388839Z",
     "shell.execute_reply.started": "2021-09-22T12:43:29.538484Z"
    },
    "papermill": {
     "duration": 0.095103,
     "end_time": "2021-09-22T13:47:51.389013",
     "exception": false,
     "start_time": "2021-09-22T13:47:51.293910",
     "status": "completed"
    },
    "tags": []
   },
   "outputs": [
    {
     "data": {
      "text/html": [
       "<div>\n",
       "<style scoped>\n",
       "    .dataframe tbody tr th:only-of-type {\n",
       "        vertical-align: middle;\n",
       "    }\n",
       "\n",
       "    .dataframe tbody tr th {\n",
       "        vertical-align: top;\n",
       "    }\n",
       "\n",
       "    .dataframe thead th {\n",
       "        text-align: right;\n",
       "    }\n",
       "</style>\n",
       "<table border=\"1\" class=\"dataframe\">\n",
       "  <thead>\n",
       "    <tr style=\"text-align: right;\">\n",
       "      <th></th>\n",
       "      <th>0</th>\n",
       "      <th>1</th>\n",
       "      <th>2</th>\n",
       "      <th>3</th>\n",
       "      <th>4</th>\n",
       "      <th>5</th>\n",
       "      <th>6</th>\n",
       "      <th>7</th>\n",
       "      <th>8</th>\n",
       "      <th>9</th>\n",
       "      <th>...</th>\n",
       "      <th>51</th>\n",
       "      <th>52</th>\n",
       "      <th>53</th>\n",
       "      <th>54</th>\n",
       "      <th>55</th>\n",
       "      <th>56</th>\n",
       "      <th>57</th>\n",
       "      <th>58</th>\n",
       "      <th>59</th>\n",
       "      <th>60</th>\n",
       "    </tr>\n",
       "  </thead>\n",
       "  <tbody>\n",
       "    <tr>\n",
       "      <th>92</th>\n",
       "      <td>0.0260</td>\n",
       "      <td>0.0192</td>\n",
       "      <td>0.0254</td>\n",
       "      <td>0.0061</td>\n",
       "      <td>0.0352</td>\n",
       "      <td>0.0701</td>\n",
       "      <td>0.1263</td>\n",
       "      <td>0.1080</td>\n",
       "      <td>0.1523</td>\n",
       "      <td>0.1630</td>\n",
       "      <td>...</td>\n",
       "      <td>0.0118</td>\n",
       "      <td>0.0120</td>\n",
       "      <td>0.0051</td>\n",
       "      <td>0.0070</td>\n",
       "      <td>0.0015</td>\n",
       "      <td>0.0035</td>\n",
       "      <td>0.0008</td>\n",
       "      <td>0.0044</td>\n",
       "      <td>0.0077</td>\n",
       "      <td>R</td>\n",
       "    </tr>\n",
       "    <tr>\n",
       "      <th>66</th>\n",
       "      <td>0.0265</td>\n",
       "      <td>0.0440</td>\n",
       "      <td>0.0137</td>\n",
       "      <td>0.0084</td>\n",
       "      <td>0.0305</td>\n",
       "      <td>0.0438</td>\n",
       "      <td>0.0341</td>\n",
       "      <td>0.0780</td>\n",
       "      <td>0.0844</td>\n",
       "      <td>0.0779</td>\n",
       "      <td>...</td>\n",
       "      <td>0.0038</td>\n",
       "      <td>0.0187</td>\n",
       "      <td>0.0156</td>\n",
       "      <td>0.0068</td>\n",
       "      <td>0.0097</td>\n",
       "      <td>0.0073</td>\n",
       "      <td>0.0081</td>\n",
       "      <td>0.0086</td>\n",
       "      <td>0.0095</td>\n",
       "      <td>R</td>\n",
       "    </tr>\n",
       "    <tr>\n",
       "      <th>39</th>\n",
       "      <td>0.0091</td>\n",
       "      <td>0.0213</td>\n",
       "      <td>0.0206</td>\n",
       "      <td>0.0505</td>\n",
       "      <td>0.0657</td>\n",
       "      <td>0.0795</td>\n",
       "      <td>0.0970</td>\n",
       "      <td>0.0872</td>\n",
       "      <td>0.0743</td>\n",
       "      <td>0.0837</td>\n",
       "      <td>...</td>\n",
       "      <td>0.0112</td>\n",
       "      <td>0.0112</td>\n",
       "      <td>0.0102</td>\n",
       "      <td>0.0026</td>\n",
       "      <td>0.0097</td>\n",
       "      <td>0.0098</td>\n",
       "      <td>0.0043</td>\n",
       "      <td>0.0071</td>\n",
       "      <td>0.0108</td>\n",
       "      <td>R</td>\n",
       "    </tr>\n",
       "    <tr>\n",
       "      <th>104</th>\n",
       "      <td>0.0307</td>\n",
       "      <td>0.0523</td>\n",
       "      <td>0.0653</td>\n",
       "      <td>0.0521</td>\n",
       "      <td>0.0611</td>\n",
       "      <td>0.0577</td>\n",
       "      <td>0.0665</td>\n",
       "      <td>0.0664</td>\n",
       "      <td>0.1460</td>\n",
       "      <td>0.2792</td>\n",
       "      <td>...</td>\n",
       "      <td>0.0321</td>\n",
       "      <td>0.0189</td>\n",
       "      <td>0.0137</td>\n",
       "      <td>0.0277</td>\n",
       "      <td>0.0152</td>\n",
       "      <td>0.0052</td>\n",
       "      <td>0.0121</td>\n",
       "      <td>0.0124</td>\n",
       "      <td>0.0055</td>\n",
       "      <td>M</td>\n",
       "    </tr>\n",
       "    <tr>\n",
       "      <th>150</th>\n",
       "      <td>0.0209</td>\n",
       "      <td>0.0278</td>\n",
       "      <td>0.0115</td>\n",
       "      <td>0.0445</td>\n",
       "      <td>0.0427</td>\n",
       "      <td>0.0766</td>\n",
       "      <td>0.1458</td>\n",
       "      <td>0.1430</td>\n",
       "      <td>0.1894</td>\n",
       "      <td>0.1853</td>\n",
       "      <td>...</td>\n",
       "      <td>0.0096</td>\n",
       "      <td>0.0014</td>\n",
       "      <td>0.0049</td>\n",
       "      <td>0.0039</td>\n",
       "      <td>0.0029</td>\n",
       "      <td>0.0078</td>\n",
       "      <td>0.0047</td>\n",
       "      <td>0.0021</td>\n",
       "      <td>0.0011</td>\n",
       "      <td>M</td>\n",
       "    </tr>\n",
       "  </tbody>\n",
       "</table>\n",
       "<p>5 rows × 61 columns</p>\n",
       "</div>"
      ],
      "text/plain": [
       "         0       1       2       3       4       5       6       7       8   \\\n",
       "92   0.0260  0.0192  0.0254  0.0061  0.0352  0.0701  0.1263  0.1080  0.1523   \n",
       "66   0.0265  0.0440  0.0137  0.0084  0.0305  0.0438  0.0341  0.0780  0.0844   \n",
       "39   0.0091  0.0213  0.0206  0.0505  0.0657  0.0795  0.0970  0.0872  0.0743   \n",
       "104  0.0307  0.0523  0.0653  0.0521  0.0611  0.0577  0.0665  0.0664  0.1460   \n",
       "150  0.0209  0.0278  0.0115  0.0445  0.0427  0.0766  0.1458  0.1430  0.1894   \n",
       "\n",
       "         9   ...      51      52      53      54      55      56      57  \\\n",
       "92   0.1630  ...  0.0118  0.0120  0.0051  0.0070  0.0015  0.0035  0.0008   \n",
       "66   0.0779  ...  0.0038  0.0187  0.0156  0.0068  0.0097  0.0073  0.0081   \n",
       "39   0.0837  ...  0.0112  0.0112  0.0102  0.0026  0.0097  0.0098  0.0043   \n",
       "104  0.2792  ...  0.0321  0.0189  0.0137  0.0277  0.0152  0.0052  0.0121   \n",
       "150  0.1853  ...  0.0096  0.0014  0.0049  0.0039  0.0029  0.0078  0.0047   \n",
       "\n",
       "         58      59  60  \n",
       "92   0.0044  0.0077   R  \n",
       "66   0.0086  0.0095   R  \n",
       "39   0.0071  0.0108   R  \n",
       "104  0.0124  0.0055   M  \n",
       "150  0.0021  0.0011   M  \n",
       "\n",
       "[5 rows x 61 columns]"
      ]
     },
     "execution_count": 3,
     "metadata": {},
     "output_type": "execute_result"
    }
   ],
   "source": [
    "# Importing data\n",
    "# As the data has no header, we set header to None\n",
    "dataframe = pd.read_csv(\"../input/mines-vs-rocks/sonar.all-data.csv\", header=None)\n",
    "dataframe.sample(5)"
   ]
  },
  {
   "cell_type": "code",
   "execution_count": 4,
   "id": "5257016b",
   "metadata": {
    "execution": {
     "iopub.execute_input": "2021-09-22T13:47:51.447253Z",
     "iopub.status.busy": "2021-09-22T13:47:51.444602Z",
     "iopub.status.idle": "2021-09-22T13:47:51.450645Z",
     "shell.execute_reply": "2021-09-22T13:47:51.451113Z",
     "shell.execute_reply.started": "2021-09-22T12:44:36.464635Z"
    },
    "papermill": {
     "duration": 0.035,
     "end_time": "2021-09-22T13:47:51.451288",
     "exception": false,
     "start_time": "2021-09-22T13:47:51.416288",
     "status": "completed"
    },
    "tags": []
   },
   "outputs": [
    {
     "data": {
      "text/plain": [
       "(208, 61)"
      ]
     },
     "execution_count": 4,
     "metadata": {},
     "output_type": "execute_result"
    }
   ],
   "source": [
    "dataframe.shape\n",
    "# So we have 208 samples\n",
    "# a total of 60 featuers and 1 dependent variable"
   ]
  },
  {
   "cell_type": "markdown",
   "id": "d3f6f1b2",
   "metadata": {
    "papermill": {
     "duration": 0.026396,
     "end_time": "2021-09-22T13:47:51.503861",
     "exception": false,
     "start_time": "2021-09-22T13:47:51.477465",
     "status": "completed"
    },
    "tags": []
   },
   "source": [
    "#### Checking for missing values"
   ]
  },
  {
   "cell_type": "code",
   "execution_count": 5,
   "id": "972978f5",
   "metadata": {
    "execution": {
     "iopub.execute_input": "2021-09-22T13:47:51.563466Z",
     "iopub.status.busy": "2021-09-22T13:47:51.558978Z",
     "iopub.status.idle": "2021-09-22T13:47:51.567075Z",
     "shell.execute_reply": "2021-09-22T13:47:51.566528Z",
     "shell.execute_reply.started": "2021-09-22T12:45:38.496984Z"
    },
    "papermill": {
     "duration": 0.037186,
     "end_time": "2021-09-22T13:47:51.567213",
     "exception": false,
     "start_time": "2021-09-22T13:47:51.530027",
     "status": "completed"
    },
    "tags": []
   },
   "outputs": [
    {
     "data": {
      "text/plain": [
       "0"
      ]
     },
     "execution_count": 5,
     "metadata": {},
     "output_type": "execute_result"
    }
   ],
   "source": [
    "# check for nan values ---> There are no null values\n",
    "dataframe.isna().sum().sum()"
   ]
  },
  {
   "cell_type": "markdown",
   "id": "03eb9464",
   "metadata": {
    "papermill": {
     "duration": 0.025986,
     "end_time": "2021-09-22T13:47:51.619590",
     "exception": false,
     "start_time": "2021-09-22T13:47:51.593604",
     "status": "completed"
    },
    "tags": []
   },
   "source": [
    "#### Dependent Variable data distribution"
   ]
  },
  {
   "cell_type": "code",
   "execution_count": 6,
   "id": "e41c49b9",
   "metadata": {
    "execution": {
     "iopub.execute_input": "2021-09-22T13:47:51.682293Z",
     "iopub.status.busy": "2021-09-22T13:47:51.681616Z",
     "iopub.status.idle": "2021-09-22T13:47:51.684200Z",
     "shell.execute_reply": "2021-09-22T13:47:51.684715Z",
     "shell.execute_reply.started": "2021-09-22T12:46:51.354299Z"
    },
    "papermill": {
     "duration": 0.038915,
     "end_time": "2021-09-22T13:47:51.684886",
     "exception": false,
     "start_time": "2021-09-22T13:47:51.645971",
     "status": "completed"
    },
    "tags": []
   },
   "outputs": [
    {
     "data": {
      "text/plain": [
       "M    111\n",
       "R     97\n",
       "Name: 60, dtype: int64"
      ]
     },
     "execution_count": 6,
     "metadata": {},
     "output_type": "execute_result"
    }
   ],
   "source": [
    "dataframe[60].value_counts() # label is not skewed\n",
    "# Mines -- 111 samples for mines\n",
    "# Rock -- 97 samples for mines"
   ]
  },
  {
   "cell_type": "markdown",
   "id": "4ce41f71",
   "metadata": {
    "papermill": {
     "duration": 0.026519,
     "end_time": "2021-09-22T13:47:51.738028",
     "exception": false,
     "start_time": "2021-09-22T13:47:51.711509",
     "status": "completed"
    },
    "tags": []
   },
   "source": [
    "#### Segregating Dependent and Independent features"
   ]
  },
  {
   "cell_type": "code",
   "execution_count": 7,
   "id": "e9578d65",
   "metadata": {
    "execution": {
     "iopub.execute_input": "2021-09-22T13:47:51.795202Z",
     "iopub.status.busy": "2021-09-22T13:47:51.794563Z",
     "iopub.status.idle": "2021-09-22T13:47:51.799122Z",
     "shell.execute_reply": "2021-09-22T13:47:51.799643Z",
     "shell.execute_reply.started": "2021-09-22T12:51:14.423207Z"
    },
    "papermill": {
     "duration": 0.034945,
     "end_time": "2021-09-22T13:47:51.799823",
     "exception": false,
     "start_time": "2021-09-22T13:47:51.764878",
     "status": "completed"
    },
    "tags": []
   },
   "outputs": [],
   "source": [
    "X = dataframe.drop(60, axis=1)\n",
    "y = dataframe[60]"
   ]
  },
  {
   "cell_type": "markdown",
   "id": "f51288bb",
   "metadata": {
    "papermill": {
     "duration": 0.026468,
     "end_time": "2021-09-22T13:47:51.853164",
     "exception": false,
     "start_time": "2021-09-22T13:47:51.826696",
     "status": "completed"
    },
    "tags": []
   },
   "source": [
    "#### Target Varaible Encoding: Converting M,R to 1,0"
   ]
  },
  {
   "cell_type": "code",
   "execution_count": 8,
   "id": "7235ec8f",
   "metadata": {
    "execution": {
     "iopub.execute_input": "2021-09-22T13:47:51.909467Z",
     "iopub.status.busy": "2021-09-22T13:47:51.908856Z",
     "iopub.status.idle": "2021-09-22T13:47:51.920789Z",
     "shell.execute_reply": "2021-09-22T13:47:51.921368Z",
     "shell.execute_reply.started": "2021-09-22T12:51:23.781247Z"
    },
    "papermill": {
     "duration": 0.041558,
     "end_time": "2021-09-22T13:47:51.921549",
     "exception": false,
     "start_time": "2021-09-22T13:47:51.879991",
     "status": "completed"
    },
    "tags": []
   },
   "outputs": [
    {
     "data": {
      "text/html": [
       "<div>\n",
       "<style scoped>\n",
       "    .dataframe tbody tr th:only-of-type {\n",
       "        vertical-align: middle;\n",
       "    }\n",
       "\n",
       "    .dataframe tbody tr th {\n",
       "        vertical-align: top;\n",
       "    }\n",
       "\n",
       "    .dataframe thead th {\n",
       "        text-align: right;\n",
       "    }\n",
       "</style>\n",
       "<table border=\"1\" class=\"dataframe\">\n",
       "  <thead>\n",
       "    <tr style=\"text-align: right;\">\n",
       "      <th></th>\n",
       "      <th>R</th>\n",
       "    </tr>\n",
       "  </thead>\n",
       "  <tbody>\n",
       "    <tr>\n",
       "      <th>157</th>\n",
       "      <td>0</td>\n",
       "    </tr>\n",
       "    <tr>\n",
       "      <th>167</th>\n",
       "      <td>0</td>\n",
       "    </tr>\n",
       "    <tr>\n",
       "      <th>61</th>\n",
       "      <td>1</td>\n",
       "    </tr>\n",
       "    <tr>\n",
       "      <th>178</th>\n",
       "      <td>0</td>\n",
       "    </tr>\n",
       "    <tr>\n",
       "      <th>144</th>\n",
       "      <td>0</td>\n",
       "    </tr>\n",
       "  </tbody>\n",
       "</table>\n",
       "</div>"
      ],
      "text/plain": [
       "     R\n",
       "157  0\n",
       "167  0\n",
       "61   1\n",
       "178  0\n",
       "144  0"
      ]
     },
     "execution_count": 8,
     "metadata": {},
     "output_type": "execute_result"
    }
   ],
   "source": [
    "y = pd.get_dummies(y, drop_first = True) # one column gets dropped (dummy variable trap)\n",
    "y.sample(5) # R --> 1 and M --> 0"
   ]
  },
  {
   "cell_type": "code",
   "execution_count": 9,
   "id": "98a7aa55",
   "metadata": {
    "execution": {
     "iopub.execute_input": "2021-09-22T13:47:51.979482Z",
     "iopub.status.busy": "2021-09-22T13:47:51.978588Z",
     "iopub.status.idle": "2021-09-22T13:47:51.988566Z",
     "shell.execute_reply": "2021-09-22T13:47:51.989058Z",
     "shell.execute_reply.started": "2021-09-22T12:52:23.269994Z"
    },
    "papermill": {
     "duration": 0.040618,
     "end_time": "2021-09-22T13:47:51.989225",
     "exception": false,
     "start_time": "2021-09-22T13:47:51.948607",
     "status": "completed"
    },
    "tags": []
   },
   "outputs": [
    {
     "data": {
      "text/plain": [
       "R\n",
       "0    111\n",
       "1     97\n",
       "dtype: int64"
      ]
     },
     "execution_count": 9,
     "metadata": {},
     "output_type": "execute_result"
    }
   ],
   "source": [
    "# distributed of dependent categories\n",
    "y.value_counts()"
   ]
  },
  {
   "cell_type": "markdown",
   "id": "53ef844f",
   "metadata": {
    "papermill": {
     "duration": 0.027095,
     "end_time": "2021-09-22T13:47:52.043668",
     "exception": false,
     "start_time": "2021-09-22T13:47:52.016573",
     "status": "completed"
    },
    "tags": []
   },
   "source": [
    "#### Train-Test Split"
   ]
  },
  {
   "cell_type": "code",
   "execution_count": 10,
   "id": "3821a294",
   "metadata": {
    "execution": {
     "iopub.execute_input": "2021-09-22T13:47:52.104490Z",
     "iopub.status.busy": "2021-09-22T13:47:52.103710Z",
     "iopub.status.idle": "2021-09-22T13:47:52.272892Z",
     "shell.execute_reply": "2021-09-22T13:47:52.272342Z",
     "shell.execute_reply.started": "2021-09-22T12:53:02.647849Z"
    },
    "papermill": {
     "duration": 0.202179,
     "end_time": "2021-09-22T13:47:52.273037",
     "exception": false,
     "start_time": "2021-09-22T13:47:52.070858",
     "status": "completed"
    },
    "tags": []
   },
   "outputs": [],
   "source": [
    "from sklearn.model_selection import train_test_split\n",
    "X_train, X_test, y_train, y_test = train_test_split(X, y, test_size=0.25, random_state=1, stratify=y)"
   ]
  },
  {
   "cell_type": "code",
   "execution_count": 11,
   "id": "68cc1d53",
   "metadata": {
    "execution": {
     "iopub.execute_input": "2021-09-22T13:47:52.334908Z",
     "iopub.status.busy": "2021-09-22T13:47:52.333878Z",
     "iopub.status.idle": "2021-09-22T13:47:52.338355Z",
     "shell.execute_reply": "2021-09-22T13:47:52.337691Z",
     "shell.execute_reply.started": "2021-09-22T12:53:36.080721Z"
    },
    "papermill": {
     "duration": 0.037976,
     "end_time": "2021-09-22T13:47:52.338504",
     "exception": false,
     "start_time": "2021-09-22T13:47:52.300528",
     "status": "completed"
    },
    "tags": []
   },
   "outputs": [
    {
     "data": {
      "text/plain": [
       "((156, 60), (52, 60))"
      ]
     },
     "execution_count": 11,
     "metadata": {},
     "output_type": "execute_result"
    }
   ],
   "source": [
    "X_train.shape, X_test.shape"
   ]
  },
  {
   "cell_type": "markdown",
   "id": "ea4cc8b7",
   "metadata": {
    "papermill": {
     "duration": 0.027615,
     "end_time": "2021-09-22T13:47:52.395101",
     "exception": false,
     "start_time": "2021-09-22T13:47:52.367486",
     "status": "completed"
    },
    "tags": []
   },
   "source": [
    "### Deep Learning (NN) without and with Dropout\n",
    "1. Without Dropout\n",
    "2. With Dropout"
   ]
  },
  {
   "cell_type": "code",
   "execution_count": 12,
   "id": "c4529643",
   "metadata": {
    "collapsed": true,
    "execution": {
     "iopub.execute_input": "2021-09-22T13:47:52.457716Z",
     "iopub.status.busy": "2021-09-22T13:47:52.457071Z",
     "iopub.status.idle": "2021-09-22T13:47:56.626375Z",
     "shell.execute_reply": "2021-09-22T13:47:56.625684Z",
     "shell.execute_reply.started": "2021-09-22T13:31:32.676455Z"
    },
    "jupyter": {
     "outputs_hidden": true
    },
    "papermill": {
     "duration": 4.203534,
     "end_time": "2021-09-22T13:47:56.626532",
     "exception": false,
     "start_time": "2021-09-22T13:47:52.422998",
     "status": "completed"
    },
    "tags": []
   },
   "outputs": [
    {
     "name": "stderr",
     "output_type": "stream",
     "text": [
      "2021-09-22 13:47:52.475611: I tensorflow/compiler/jit/xla_cpu_device.cc:41] Not creating XLA devices, tf_xla_enable_xla_devices not set\n",
      "2021-09-22 13:47:52.478956: W tensorflow/stream_executor/platform/default/dso_loader.cc:60] Could not load dynamic library 'libcuda.so.1'; dlerror: libcuda.so.1: cannot open shared object file: No such file or directory; LD_LIBRARY_PATH: /opt/conda/lib\n",
      "2021-09-22 13:47:52.478997: W tensorflow/stream_executor/cuda/cuda_driver.cc:326] failed call to cuInit: UNKNOWN ERROR (303)\n",
      "2021-09-22 13:47:52.479022: I tensorflow/stream_executor/cuda/cuda_diagnostics.cc:156] kernel driver does not appear to be running on this host (d532148e8218): /proc/driver/nvidia/version does not exist\n",
      "2021-09-22 13:47:52.479411: I tensorflow/core/platform/cpu_feature_guard.cc:142] This TensorFlow binary is optimized with oneAPI Deep Neural Network Library (oneDNN) to use the following CPU instructions in performance-critical operations:  AVX2 FMA\n",
      "To enable them in other operations, rebuild TensorFlow with the appropriate compiler flags.\n",
      "2021-09-22 13:47:52.479762: I tensorflow/compiler/jit/xla_gpu_device.cc:99] Not creating XLA devices, tf_xla_enable_xla_devices not set\n",
      "2021-09-22 13:47:52.840698: I tensorflow/compiler/mlir/mlir_graph_optimization_pass.cc:116] None of the MLIR optimization passes are enabled (registered 2)\n",
      "2021-09-22 13:47:52.855916: I tensorflow/core/platform/profile_utils/cpu_utils.cc:112] CPU Frequency: 2299995000 Hz\n"
     ]
    },
    {
     "name": "stdout",
     "output_type": "stream",
     "text": [
      "Epoch 1/100\n",
      "20/20 [==============================] - 1s 1ms/step - loss: 0.6926 - accuracy: 0.5265\n",
      "Epoch 2/100\n",
      "20/20 [==============================] - 0s 1ms/step - loss: 0.6692 - accuracy: 0.6853\n",
      "Epoch 3/100\n",
      "20/20 [==============================] - 0s 1ms/step - loss: 0.6293 - accuracy: 0.7857\n",
      "Epoch 4/100\n",
      "20/20 [==============================] - 0s 1ms/step - loss: 0.5765 - accuracy: 0.7943\n",
      "Epoch 5/100\n",
      "20/20 [==============================] - 0s 1ms/step - loss: 0.5433 - accuracy: 0.7910\n",
      "Epoch 6/100\n",
      "20/20 [==============================] - 0s 1ms/step - loss: 0.4295 - accuracy: 0.8903\n",
      "Epoch 7/100\n",
      "20/20 [==============================] - 0s 1ms/step - loss: 0.4473 - accuracy: 0.8460\n",
      "Epoch 8/100\n",
      "20/20 [==============================] - 0s 1ms/step - loss: 0.3838 - accuracy: 0.8526\n",
      "Epoch 9/100\n",
      "20/20 [==============================] - 0s 1ms/step - loss: 0.3666 - accuracy: 0.8885\n",
      "Epoch 10/100\n",
      "20/20 [==============================] - 0s 1ms/step - loss: 0.3165 - accuracy: 0.8706\n",
      "Epoch 11/100\n",
      "20/20 [==============================] - 0s 1ms/step - loss: 0.3176 - accuracy: 0.8437\n",
      "Epoch 12/100\n",
      "20/20 [==============================] - 0s 1ms/step - loss: 0.2954 - accuracy: 0.8976\n",
      "Epoch 13/100\n",
      "20/20 [==============================] - 0s 1ms/step - loss: 0.2502 - accuracy: 0.9100\n",
      "Epoch 14/100\n",
      "20/20 [==============================] - 0s 1ms/step - loss: 0.2889 - accuracy: 0.9082\n",
      "Epoch 15/100\n",
      "20/20 [==============================] - 0s 1ms/step - loss: 0.2729 - accuracy: 0.8833\n",
      "Epoch 16/100\n",
      "20/20 [==============================] - 0s 1ms/step - loss: 0.2330 - accuracy: 0.9015\n",
      "Epoch 17/100\n",
      "20/20 [==============================] - 0s 1ms/step - loss: 0.2675 - accuracy: 0.8944\n",
      "Epoch 18/100\n",
      "20/20 [==============================] - 0s 1ms/step - loss: 0.2505 - accuracy: 0.8944\n",
      "Epoch 19/100\n",
      "20/20 [==============================] - 0s 1ms/step - loss: 0.1864 - accuracy: 0.9590\n",
      "Epoch 20/100\n",
      "20/20 [==============================] - 0s 1ms/step - loss: 0.3091 - accuracy: 0.8456\n",
      "Epoch 21/100\n",
      "20/20 [==============================] - 0s 1ms/step - loss: 0.2573 - accuracy: 0.9100\n",
      "Epoch 22/100\n",
      "20/20 [==============================] - 0s 1ms/step - loss: 0.1989 - accuracy: 0.9682\n",
      "Epoch 23/100\n",
      "20/20 [==============================] - 0s 1ms/step - loss: 0.2250 - accuracy: 0.9150\n",
      "Epoch 24/100\n",
      "20/20 [==============================] - 0s 1ms/step - loss: 0.1699 - accuracy: 0.9318\n",
      "Epoch 25/100\n",
      "20/20 [==============================] - 0s 1ms/step - loss: 0.1697 - accuracy: 0.9699\n",
      "Epoch 26/100\n",
      "20/20 [==============================] - 0s 1ms/step - loss: 0.1353 - accuracy: 0.9612\n",
      "Epoch 27/100\n",
      "20/20 [==============================] - 0s 1ms/step - loss: 0.1569 - accuracy: 0.9554\n",
      "Epoch 28/100\n",
      "20/20 [==============================] - 0s 1ms/step - loss: 0.1810 - accuracy: 0.9178\n",
      "Epoch 29/100\n",
      "20/20 [==============================] - 0s 1ms/step - loss: 0.1195 - accuracy: 0.9634\n",
      "Epoch 30/100\n",
      "20/20 [==============================] - 0s 1ms/step - loss: 0.0988 - accuracy: 0.9871\n",
      "Epoch 31/100\n",
      "20/20 [==============================] - 0s 1ms/step - loss: 0.1095 - accuracy: 0.9726\n",
      "Epoch 32/100\n",
      "20/20 [==============================] - 0s 1ms/step - loss: 0.1109 - accuracy: 0.9720\n",
      "Epoch 33/100\n",
      "20/20 [==============================] - 0s 1ms/step - loss: 0.1239 - accuracy: 0.9881\n",
      "Epoch 34/100\n",
      "20/20 [==============================] - 0s 1ms/step - loss: 0.1312 - accuracy: 0.9614\n",
      "Epoch 35/100\n",
      "20/20 [==============================] - 0s 1ms/step - loss: 0.0935 - accuracy: 0.9840\n",
      "Epoch 36/100\n",
      "20/20 [==============================] - 0s 1ms/step - loss: 0.1314 - accuracy: 0.9505\n",
      "Epoch 37/100\n",
      "20/20 [==============================] - 0s 1ms/step - loss: 0.0965 - accuracy: 0.9789\n",
      "Epoch 38/100\n",
      "20/20 [==============================] - 0s 1ms/step - loss: 0.0898 - accuracy: 0.9837\n",
      "Epoch 39/100\n",
      "20/20 [==============================] - 0s 1ms/step - loss: 0.0631 - accuracy: 0.9964\n",
      "Epoch 40/100\n",
      "20/20 [==============================] - 0s 1ms/step - loss: 0.0879 - accuracy: 0.9808\n",
      "Epoch 41/100\n",
      "20/20 [==============================] - 0s 2ms/step - loss: 0.0858 - accuracy: 0.9788\n",
      "Epoch 42/100\n",
      "20/20 [==============================] - 0s 1ms/step - loss: 0.0856 - accuracy: 0.9651\n",
      "Epoch 43/100\n",
      "20/20 [==============================] - 0s 1ms/step - loss: 0.0566 - accuracy: 0.9879\n",
      "Epoch 44/100\n",
      "20/20 [==============================] - 0s 1ms/step - loss: 0.0533 - accuracy: 0.9994\n",
      "Epoch 45/100\n",
      "20/20 [==============================] - 0s 1ms/step - loss: 0.0468 - accuracy: 0.9907\n",
      "Epoch 46/100\n",
      "20/20 [==============================] - 0s 1ms/step - loss: 0.0682 - accuracy: 0.9842\n",
      "Epoch 47/100\n",
      "20/20 [==============================] - 0s 1ms/step - loss: 0.0423 - accuracy: 1.0000\n",
      "Epoch 48/100\n",
      "20/20 [==============================] - 0s 1ms/step - loss: 0.0465 - accuracy: 0.9876\n",
      "Epoch 49/100\n",
      "20/20 [==============================] - 0s 1ms/step - loss: 0.0308 - accuracy: 0.9956\n",
      "Epoch 50/100\n",
      "20/20 [==============================] - 0s 1ms/step - loss: 0.0463 - accuracy: 1.0000\n",
      "Epoch 51/100\n",
      "20/20 [==============================] - 0s 1ms/step - loss: 0.0354 - accuracy: 1.0000\n",
      "Epoch 52/100\n",
      "20/20 [==============================] - 0s 1ms/step - loss: 0.0342 - accuracy: 1.0000\n",
      "Epoch 53/100\n",
      "20/20 [==============================] - 0s 1ms/step - loss: 0.0260 - accuracy: 1.0000\n",
      "Epoch 54/100\n",
      "20/20 [==============================] - 0s 1ms/step - loss: 0.0233 - accuracy: 0.9929\n",
      "Epoch 55/100\n",
      "20/20 [==============================] - 0s 1ms/step - loss: 0.0187 - accuracy: 1.0000\n",
      "Epoch 56/100\n",
      "20/20 [==============================] - 0s 1ms/step - loss: 0.0458 - accuracy: 0.9851\n",
      "Epoch 57/100\n",
      "20/20 [==============================] - 0s 1ms/step - loss: 0.0455 - accuracy: 1.0000\n",
      "Epoch 58/100\n",
      "20/20 [==============================] - 0s 1ms/step - loss: 0.0333 - accuracy: 1.0000\n",
      "Epoch 59/100\n",
      "20/20 [==============================] - 0s 1ms/step - loss: 0.0297 - accuracy: 0.9929\n",
      "Epoch 60/100\n",
      "20/20 [==============================] - 0s 1ms/step - loss: 0.0346 - accuracy: 1.0000\n",
      "Epoch 61/100\n",
      "20/20 [==============================] - 0s 1ms/step - loss: 0.0180 - accuracy: 1.0000\n",
      "Epoch 62/100\n",
      "20/20 [==============================] - 0s 1ms/step - loss: 0.0099 - accuracy: 1.0000\n",
      "Epoch 63/100\n",
      "20/20 [==============================] - 0s 1ms/step - loss: 0.0154 - accuracy: 1.0000\n",
      "Epoch 64/100\n",
      "20/20 [==============================] - 0s 1ms/step - loss: 0.0158 - accuracy: 1.0000\n",
      "Epoch 65/100\n",
      "20/20 [==============================] - 0s 1ms/step - loss: 0.0172 - accuracy: 0.9980\n",
      "Epoch 66/100\n",
      "20/20 [==============================] - 0s 1ms/step - loss: 0.0121 - accuracy: 1.0000\n",
      "Epoch 67/100\n",
      "20/20 [==============================] - 0s 1ms/step - loss: 0.0156 - accuracy: 1.0000\n",
      "Epoch 68/100\n",
      "20/20 [==============================] - 0s 1ms/step - loss: 0.0097 - accuracy: 1.0000\n",
      "Epoch 69/100\n",
      "20/20 [==============================] - 0s 1ms/step - loss: 0.0088 - accuracy: 1.0000\n",
      "Epoch 70/100\n",
      "20/20 [==============================] - 0s 1ms/step - loss: 0.0071 - accuracy: 1.0000\n",
      "Epoch 71/100\n",
      "20/20 [==============================] - 0s 1ms/step - loss: 0.0085 - accuracy: 1.0000\n",
      "Epoch 72/100\n",
      "20/20 [==============================] - 0s 1ms/step - loss: 0.0081 - accuracy: 1.0000\n",
      "Epoch 73/100\n",
      "20/20 [==============================] - 0s 1ms/step - loss: 0.0085 - accuracy: 1.0000\n",
      "Epoch 74/100\n",
      "20/20 [==============================] - 0s 1ms/step - loss: 0.0060 - accuracy: 1.0000\n",
      "Epoch 75/100\n",
      "20/20 [==============================] - 0s 1ms/step - loss: 0.0081 - accuracy: 1.0000\n",
      "Epoch 76/100\n",
      "20/20 [==============================] - 0s 1ms/step - loss: 0.0045 - accuracy: 1.0000\n",
      "Epoch 77/100\n",
      "20/20 [==============================] - 0s 1ms/step - loss: 0.0052 - accuracy: 1.0000\n",
      "Epoch 78/100\n",
      "20/20 [==============================] - 0s 1ms/step - loss: 0.0064 - accuracy: 1.0000\n",
      "Epoch 79/100\n",
      "20/20 [==============================] - 0s 1ms/step - loss: 0.0081 - accuracy: 1.0000\n",
      "Epoch 80/100\n",
      "20/20 [==============================] - 0s 1ms/step - loss: 0.0056 - accuracy: 1.0000\n",
      "Epoch 81/100\n",
      "20/20 [==============================] - 0s 2ms/step - loss: 0.0045 - accuracy: 1.0000\n",
      "Epoch 82/100\n",
      "20/20 [==============================] - 0s 1ms/step - loss: 0.0047 - accuracy: 1.0000\n",
      "Epoch 83/100\n",
      "20/20 [==============================] - 0s 1ms/step - loss: 0.0048 - accuracy: 1.0000\n",
      "Epoch 84/100\n",
      "20/20 [==============================] - 0s 1ms/step - loss: 0.0040 - accuracy: 1.0000\n",
      "Epoch 85/100\n",
      "20/20 [==============================] - 0s 1ms/step - loss: 0.0035 - accuracy: 1.0000\n",
      "Epoch 86/100\n",
      "20/20 [==============================] - 0s 1ms/step - loss: 0.0040 - accuracy: 1.0000\n",
      "Epoch 87/100\n",
      "20/20 [==============================] - 0s 1ms/step - loss: 0.0033 - accuracy: 1.0000\n",
      "Epoch 88/100\n",
      "20/20 [==============================] - 0s 1ms/step - loss: 0.0033 - accuracy: 1.0000\n",
      "Epoch 89/100\n",
      "20/20 [==============================] - 0s 2ms/step - loss: 0.0028 - accuracy: 1.0000\n",
      "Epoch 90/100\n",
      "20/20 [==============================] - 0s 1ms/step - loss: 0.0039 - accuracy: 1.0000\n",
      "Epoch 91/100\n",
      "20/20 [==============================] - 0s 1ms/step - loss: 0.0034 - accuracy: 1.0000\n",
      "Epoch 92/100\n",
      "20/20 [==============================] - 0s 1ms/step - loss: 0.0041 - accuracy: 1.0000\n",
      "Epoch 93/100\n",
      "20/20 [==============================] - 0s 1ms/step - loss: 0.0032 - accuracy: 1.0000\n",
      "Epoch 94/100\n",
      "20/20 [==============================] - 0s 1ms/step - loss: 0.0025 - accuracy: 1.0000\n",
      "Epoch 95/100\n",
      "20/20 [==============================] - 0s 1ms/step - loss: 0.0030 - accuracy: 1.0000\n",
      "Epoch 96/100\n",
      "20/20 [==============================] - 0s 1ms/step - loss: 0.0029 - accuracy: 1.0000\n",
      "Epoch 97/100\n",
      "20/20 [==============================] - 0s 1ms/step - loss: 0.0022 - accuracy: 1.0000\n",
      "Epoch 98/100\n",
      "20/20 [==============================] - 0s 1ms/step - loss: 0.0017 - accuracy: 1.0000\n",
      "Epoch 99/100\n",
      "20/20 [==============================] - 0s 1ms/step - loss: 0.0022 - accuracy: 1.0000\n",
      "Epoch 100/100\n",
      "20/20 [==============================] - 0s 1ms/step - loss: 0.0024 - accuracy: 1.0000\n",
      "CPU times: user 5.14 s, sys: 779 ms, total: 5.92 s\n",
      "Wall time: 4.16 s\n"
     ]
    },
    {
     "data": {
      "text/plain": [
       "<tensorflow.python.keras.callbacks.History at 0x7f47100adfd0>"
      ]
     },
     "execution_count": 12,
     "metadata": {},
     "output_type": "execute_result"
    }
   ],
   "source": [
    "%%time\n",
    "## Without Dropout\n",
    "# Defining the architecture of model\n",
    "model_without_dropout = keras.Sequential([\n",
    "    keras.layers.Dense(60, input_dim = 60, activation='relu'), # first dense layer\n",
    "    keras.layers.Dense(30, activation = 'relu'), # second dense layer\n",
    "    keras.layers.Dense(15, activation = 'relu'), # 3rd dense layer\n",
    "    keras.layers.Dense(1, activation = 'sigmoid') # output layer\n",
    "])\n",
    "\n",
    "model_without_dropout.compile(loss = 'binary_crossentropy', optimizer = 'adam', metrics = ['accuracy'])\n",
    "\n",
    "model_without_dropout.fit(X_train, y_train, epochs = 100, batch_size = 8)"
   ]
  },
  {
   "cell_type": "code",
   "execution_count": 13,
   "id": "f2ddfc8c",
   "metadata": {
    "execution": {
     "iopub.execute_input": "2021-09-22T13:47:56.824139Z",
     "iopub.status.busy": "2021-09-22T13:47:56.823230Z",
     "iopub.status.idle": "2021-09-22T13:47:57.029851Z",
     "shell.execute_reply": "2021-09-22T13:47:57.029278Z",
     "shell.execute_reply.started": "2021-09-22T13:32:53.289423Z"
    },
    "papermill": {
     "duration": 0.304306,
     "end_time": "2021-09-22T13:47:57.030019",
     "exception": false,
     "start_time": "2021-09-22T13:47:56.725713",
     "status": "completed"
    },
    "tags": []
   },
   "outputs": [
    {
     "name": "stdout",
     "output_type": "stream",
     "text": [
      "5/5 [==============================] - 0s 2ms/step - loss: 0.0021 - accuracy: 1.0000\n"
     ]
    },
    {
     "data": {
      "text/plain": [
       "[0.0021449935156852007, 1.0]"
      ]
     },
     "execution_count": 13,
     "metadata": {},
     "output_type": "execute_result"
    }
   ],
   "source": [
    "# Here we can clearly see an accuracy of 1, which might be because of overfitting\n",
    "model_without_dropout.evaluate(X_train, y_train)"
   ]
  },
  {
   "cell_type": "code",
   "execution_count": 14,
   "id": "80066873",
   "metadata": {
    "execution": {
     "iopub.execute_input": "2021-09-22T13:47:57.216648Z",
     "iopub.status.busy": "2021-09-22T13:47:57.214724Z",
     "iopub.status.idle": "2021-09-22T13:47:57.304382Z",
     "shell.execute_reply": "2021-09-22T13:47:57.303835Z",
     "shell.execute_reply.started": "2021-09-22T13:32:04.754077Z"
    },
    "papermill": {
     "duration": 0.183935,
     "end_time": "2021-09-22T13:47:57.304535",
     "exception": false,
     "start_time": "2021-09-22T13:47:57.120600",
     "status": "completed"
    },
    "tags": []
   },
   "outputs": [
    {
     "name": "stdout",
     "output_type": "stream",
     "text": [
      "2/2 [==============================] - 0s 3ms/step - loss: 0.8944 - accuracy: 0.8269\n"
     ]
    },
    {
     "data": {
      "text/plain": [
       "[0.8943887948989868, 0.8269230723381042]"
      ]
     },
     "execution_count": 14,
     "metadata": {},
     "output_type": "execute_result"
    }
   ],
   "source": [
    "# Evaluating without dropout model on test set\n",
    "model_without_dropout.evaluate(X_test, y_test)"
   ]
  },
  {
   "cell_type": "code",
   "execution_count": 15,
   "id": "f303681d",
   "metadata": {
    "execution": {
     "iopub.execute_input": "2021-09-22T13:47:57.491802Z",
     "iopub.status.busy": "2021-09-22T13:47:57.490795Z",
     "iopub.status.idle": "2021-09-22T13:47:57.648802Z",
     "shell.execute_reply": "2021-09-22T13:47:57.648249Z",
     "shell.execute_reply.started": "2021-09-22T13:34:58.223366Z"
    },
    "papermill": {
     "duration": 0.252306,
     "end_time": "2021-09-22T13:47:57.648952",
     "exception": false,
     "start_time": "2021-09-22T13:47:57.396646",
     "status": "completed"
    },
    "tags": []
   },
   "outputs": [
    {
     "name": "stdout",
     "output_type": "stream",
     "text": [
      "[2.18481176e-07 9.37286377e-01 2.29597092e-04 8.22868645e-02\n",
      " 8.40270221e-01 8.93892407e-01 5.48772869e-06 9.82714772e-01\n",
      " 9.99982119e-01 1.13333035e-05]\n",
      "[0. 1. 0. 0. 1. 1. 0. 1. 1. 0.]\n"
     ]
    }
   ],
   "source": [
    "## prediction some samples\n",
    "y_pred = model_without_dropout.predict(X_test).reshape(-1)\n",
    "print(y_pred[:10])\n",
    "\n",
    "# round the values to nearest integer i.e., 0 or 1 as the output Activation function was sigmoid (so output values are probabilities)\n",
    "y_pred = np.round(y_pred)\n",
    "print(y_pred[:10])"
   ]
  },
  {
   "cell_type": "code",
   "execution_count": 16,
   "id": "26ef4dc4",
   "metadata": {
    "execution": {
     "iopub.execute_input": "2021-09-22T13:47:57.860100Z",
     "iopub.status.busy": "2021-09-22T13:47:57.859043Z",
     "iopub.status.idle": "2021-09-22T13:47:57.862763Z",
     "shell.execute_reply": "2021-09-22T13:47:57.863545Z",
     "shell.execute_reply.started": "2021-09-22T13:37:09.081578Z"
    },
    "papermill": {
     "duration": 0.122569,
     "end_time": "2021-09-22T13:47:57.863795",
     "exception": false,
     "start_time": "2021-09-22T13:47:57.741226",
     "status": "completed"
    },
    "tags": []
   },
   "outputs": [
    {
     "data": {
      "text/plain": [
       "array([[0, 0, 1, 1, 0, 0, 0, 1, 1, 0]], dtype=uint8)"
      ]
     },
     "execution_count": 16,
     "metadata": {},
     "output_type": "execute_result"
    }
   ],
   "source": [
    "np.array(y_test[:10]).reshape(1,-1)"
   ]
  },
  {
   "cell_type": "code",
   "execution_count": 17,
   "id": "ae46228b",
   "metadata": {
    "execution": {
     "iopub.execute_input": "2021-09-22T13:47:58.057172Z",
     "iopub.status.busy": "2021-09-22T13:47:58.056288Z",
     "iopub.status.idle": "2021-09-22T13:47:58.060075Z",
     "shell.execute_reply": "2021-09-22T13:47:58.059590Z",
     "shell.execute_reply.started": "2021-09-22T13:36:07.012702Z"
    },
    "papermill": {
     "duration": 0.101463,
     "end_time": "2021-09-22T13:47:58.060216",
     "exception": false,
     "start_time": "2021-09-22T13:47:57.958753",
     "status": "completed"
    },
    "tags": []
   },
   "outputs": [
    {
     "data": {
      "text/plain": [
       "5"
      ]
     },
     "execution_count": 17,
     "metadata": {},
     "output_type": "execute_result"
    }
   ],
   "source": [
    "np.sum(np.array(y_test[:10]).reshape(1,-1) == y_pred[:10])\n",
    "# So out of 10, 5 correctly classified"
   ]
  },
  {
   "cell_type": "code",
   "execution_count": 18,
   "id": "9b1f73ad",
   "metadata": {
    "execution": {
     "iopub.execute_input": "2021-09-22T13:47:58.251642Z",
     "iopub.status.busy": "2021-09-22T13:47:58.250970Z",
     "iopub.status.idle": "2021-09-22T13:47:58.258880Z",
     "shell.execute_reply": "2021-09-22T13:47:58.259395Z",
     "shell.execute_reply.started": "2021-09-22T13:39:07.707559Z"
    },
    "papermill": {
     "duration": 0.105948,
     "end_time": "2021-09-22T13:47:58.259573",
     "exception": false,
     "start_time": "2021-09-22T13:47:58.153625",
     "status": "completed"
    },
    "tags": []
   },
   "outputs": [
    {
     "name": "stdout",
     "output_type": "stream",
     "text": [
      "              precision    recall  f1-score   support\n",
      "\n",
      "           0       0.88      0.79      0.83        28\n",
      "           1       0.78      0.88      0.82        24\n",
      "\n",
      "    accuracy                           0.83        52\n",
      "   macro avg       0.83      0.83      0.83        52\n",
      "weighted avg       0.83      0.83      0.83        52\n",
      "\n"
     ]
    }
   ],
   "source": [
    "# printing the metrics\n",
    "from sklearn.metrics import confusion_matrix, classification_report\n",
    "print(classification_report(y_test, y_pred))"
   ]
  },
  {
   "cell_type": "markdown",
   "id": "caf4140b",
   "metadata": {
    "papermill": {
     "duration": 0.093556,
     "end_time": "2021-09-22T13:47:58.446821",
     "exception": false,
     "start_time": "2021-09-22T13:47:58.353265",
     "status": "completed"
    },
    "tags": []
   },
   "source": [
    "##### Model with dropout"
   ]
  },
  {
   "cell_type": "code",
   "execution_count": 19,
   "id": "bc8bda61",
   "metadata": {
    "collapsed": true,
    "execution": {
     "iopub.execute_input": "2021-09-22T13:47:58.648694Z",
     "iopub.status.busy": "2021-09-22T13:47:58.647650Z",
     "iopub.status.idle": "2021-09-22T13:48:02.566089Z",
     "shell.execute_reply": "2021-09-22T13:48:02.566604Z",
     "shell.execute_reply.started": "2021-09-22T13:41:08.424707Z"
    },
    "jupyter": {
     "outputs_hidden": true
    },
    "papermill": {
     "duration": 4.02653,
     "end_time": "2021-09-22T13:48:02.566773",
     "exception": false,
     "start_time": "2021-09-22T13:47:58.540243",
     "status": "completed"
    },
    "tags": []
   },
   "outputs": [
    {
     "name": "stdout",
     "output_type": "stream",
     "text": [
      "Epoch 1/100\n",
      "20/20 [==============================] - 1s 1ms/step - loss: 0.6625 - accuracy: 0.5612\n",
      "Epoch 2/100\n",
      "20/20 [==============================] - 0s 2ms/step - loss: 0.6971 - accuracy: 0.5250\n",
      "Epoch 3/100\n",
      "20/20 [==============================] - 0s 1ms/step - loss: 0.7062 - accuracy: 0.5220\n",
      "Epoch 4/100\n",
      "20/20 [==============================] - 0s 1ms/step - loss: 0.6942 - accuracy: 0.5284\n",
      "Epoch 5/100\n",
      "20/20 [==============================] - 0s 1ms/step - loss: 0.6970 - accuracy: 0.5023\n",
      "Epoch 6/100\n",
      "20/20 [==============================] - 0s 1ms/step - loss: 0.7011 - accuracy: 0.4769\n",
      "Epoch 7/100\n",
      "20/20 [==============================] - 0s 1ms/step - loss: 0.6791 - accuracy: 0.5744\n",
      "Epoch 8/100\n",
      "20/20 [==============================] - 0s 1ms/step - loss: 0.6561 - accuracy: 0.5618\n",
      "Epoch 9/100\n",
      "20/20 [==============================] - 0s 1ms/step - loss: 0.6708 - accuracy: 0.5429\n",
      "Epoch 10/100\n",
      "20/20 [==============================] - 0s 2ms/step - loss: 0.6963 - accuracy: 0.5179\n",
      "Epoch 11/100\n",
      "20/20 [==============================] - 0s 1ms/step - loss: 0.6756 - accuracy: 0.6117\n",
      "Epoch 12/100\n",
      "20/20 [==============================] - 0s 1ms/step - loss: 0.6366 - accuracy: 0.6565\n",
      "Epoch 13/100\n",
      "20/20 [==============================] - 0s 1ms/step - loss: 0.6812 - accuracy: 0.5646\n",
      "Epoch 14/100\n",
      "20/20 [==============================] - 0s 1ms/step - loss: 0.6950 - accuracy: 0.4725\n",
      "Epoch 15/100\n",
      "20/20 [==============================] - 0s 2ms/step - loss: 0.6545 - accuracy: 0.6249\n",
      "Epoch 16/100\n",
      "20/20 [==============================] - 0s 1ms/step - loss: 0.6869 - accuracy: 0.5489\n",
      "Epoch 17/100\n",
      "20/20 [==============================] - 0s 1ms/step - loss: 0.6880 - accuracy: 0.5987\n",
      "Epoch 18/100\n",
      "20/20 [==============================] - 0s 1ms/step - loss: 0.6808 - accuracy: 0.6324\n",
      "Epoch 19/100\n",
      "20/20 [==============================] - 0s 1ms/step - loss: 0.6500 - accuracy: 0.5449\n",
      "Epoch 20/100\n",
      "20/20 [==============================] - 0s 2ms/step - loss: 0.6539 - accuracy: 0.6155\n",
      "Epoch 21/100\n",
      "20/20 [==============================] - 0s 1ms/step - loss: 0.6119 - accuracy: 0.6437\n",
      "Epoch 22/100\n",
      "20/20 [==============================] - 0s 1ms/step - loss: 0.6063 - accuracy: 0.6426\n",
      "Epoch 23/100\n",
      "20/20 [==============================] - 0s 1ms/step - loss: 0.6211 - accuracy: 0.6491\n",
      "Epoch 24/100\n",
      "20/20 [==============================] - 0s 1ms/step - loss: 0.6436 - accuracy: 0.6422\n",
      "Epoch 25/100\n",
      "20/20 [==============================] - 0s 1ms/step - loss: 0.5876 - accuracy: 0.7321\n",
      "Epoch 26/100\n",
      "20/20 [==============================] - 0s 1ms/step - loss: 0.6162 - accuracy: 0.6558\n",
      "Epoch 27/100\n",
      "20/20 [==============================] - 0s 1ms/step - loss: 0.5978 - accuracy: 0.7472\n",
      "Epoch 28/100\n",
      "20/20 [==============================] - 0s 1ms/step - loss: 0.6426 - accuracy: 0.6438\n",
      "Epoch 29/100\n",
      "20/20 [==============================] - 0s 1ms/step - loss: 0.6117 - accuracy: 0.6586\n",
      "Epoch 30/100\n",
      "20/20 [==============================] - 0s 1ms/step - loss: 0.6161 - accuracy: 0.6867\n",
      "Epoch 31/100\n",
      "20/20 [==============================] - 0s 2ms/step - loss: 0.5719 - accuracy: 0.7030\n",
      "Epoch 32/100\n",
      "20/20 [==============================] - 0s 1ms/step - loss: 0.5049 - accuracy: 0.7236\n",
      "Epoch 33/100\n",
      "20/20 [==============================] - 0s 1ms/step - loss: 0.5785 - accuracy: 0.7056\n",
      "Epoch 34/100\n",
      "20/20 [==============================] - 0s 1ms/step - loss: 0.5076 - accuracy: 0.8138\n",
      "Epoch 35/100\n",
      "20/20 [==============================] - 0s 2ms/step - loss: 0.5251 - accuracy: 0.7343\n",
      "Epoch 36/100\n",
      "20/20 [==============================] - 0s 1ms/step - loss: 0.5397 - accuracy: 0.6771\n",
      "Epoch 37/100\n",
      "20/20 [==============================] - 0s 1ms/step - loss: 0.5661 - accuracy: 0.6904\n",
      "Epoch 38/100\n",
      "20/20 [==============================] - 0s 1ms/step - loss: 0.5281 - accuracy: 0.7600\n",
      "Epoch 39/100\n",
      "20/20 [==============================] - 0s 1ms/step - loss: 0.4842 - accuracy: 0.7792\n",
      "Epoch 40/100\n",
      "20/20 [==============================] - 0s 2ms/step - loss: 0.5234 - accuracy: 0.7522\n",
      "Epoch 41/100\n",
      "20/20 [==============================] - 0s 1ms/step - loss: 0.4918 - accuracy: 0.8228\n",
      "Epoch 42/100\n",
      "20/20 [==============================] - 0s 1ms/step - loss: 0.4576 - accuracy: 0.8378\n",
      "Epoch 43/100\n",
      "20/20 [==============================] - 0s 1ms/step - loss: 0.5216 - accuracy: 0.7222\n",
      "Epoch 44/100\n",
      "20/20 [==============================] - 0s 1ms/step - loss: 0.4745 - accuracy: 0.7790\n",
      "Epoch 45/100\n",
      "20/20 [==============================] - 0s 1ms/step - loss: 0.4652 - accuracy: 0.7942\n",
      "Epoch 46/100\n",
      "20/20 [==============================] - 0s 2ms/step - loss: 0.4414 - accuracy: 0.7937\n",
      "Epoch 47/100\n",
      "20/20 [==============================] - 0s 1ms/step - loss: 0.5072 - accuracy: 0.7146\n",
      "Epoch 48/100\n",
      "20/20 [==============================] - 0s 1ms/step - loss: 0.4541 - accuracy: 0.7743\n",
      "Epoch 49/100\n",
      "20/20 [==============================] - 0s 2ms/step - loss: 0.5453 - accuracy: 0.7767\n",
      "Epoch 50/100\n",
      "20/20 [==============================] - 0s 2ms/step - loss: 0.4669 - accuracy: 0.8296\n",
      "Epoch 51/100\n",
      "20/20 [==============================] - 0s 1ms/step - loss: 0.4293 - accuracy: 0.8243\n",
      "Epoch 52/100\n",
      "20/20 [==============================] - 0s 1ms/step - loss: 0.4104 - accuracy: 0.7973\n",
      "Epoch 53/100\n",
      "20/20 [==============================] - 0s 2ms/step - loss: 0.4306 - accuracy: 0.7943\n",
      "Epoch 54/100\n",
      "20/20 [==============================] - 0s 1ms/step - loss: 0.4433 - accuracy: 0.8022\n",
      "Epoch 55/100\n",
      "20/20 [==============================] - 0s 1ms/step - loss: 0.3849 - accuracy: 0.8469\n",
      "Epoch 56/100\n",
      "20/20 [==============================] - 0s 1ms/step - loss: 0.4860 - accuracy: 0.8034\n",
      "Epoch 57/100\n",
      "20/20 [==============================] - 0s 2ms/step - loss: 0.3743 - accuracy: 0.8242\n",
      "Epoch 58/100\n",
      "20/20 [==============================] - 0s 2ms/step - loss: 0.4073 - accuracy: 0.8190\n",
      "Epoch 59/100\n",
      "20/20 [==============================] - 0s 2ms/step - loss: 0.5049 - accuracy: 0.8217\n",
      "Epoch 60/100\n",
      "20/20 [==============================] - 0s 1ms/step - loss: 0.4288 - accuracy: 0.7983\n",
      "Epoch 61/100\n",
      "20/20 [==============================] - 0s 2ms/step - loss: 0.3923 - accuracy: 0.8491\n",
      "Epoch 62/100\n",
      "20/20 [==============================] - 0s 2ms/step - loss: 0.3690 - accuracy: 0.8257\n",
      "Epoch 63/100\n",
      "20/20 [==============================] - 0s 2ms/step - loss: 0.4351 - accuracy: 0.8023\n",
      "Epoch 64/100\n",
      "20/20 [==============================] - 0s 2ms/step - loss: 0.2973 - accuracy: 0.8802\n",
      "Epoch 65/100\n",
      "20/20 [==============================] - 0s 2ms/step - loss: 0.4858 - accuracy: 0.7966\n",
      "Epoch 66/100\n",
      "20/20 [==============================] - 0s 1ms/step - loss: 0.4258 - accuracy: 0.8288\n",
      "Epoch 67/100\n",
      "20/20 [==============================] - 0s 2ms/step - loss: 0.4249 - accuracy: 0.8235\n",
      "Epoch 68/100\n",
      "20/20 [==============================] - 0s 2ms/step - loss: 0.3548 - accuracy: 0.8638\n",
      "Epoch 69/100\n",
      "20/20 [==============================] - 0s 1ms/step - loss: 0.3670 - accuracy: 0.8766\n",
      "Epoch 70/100\n",
      "20/20 [==============================] - 0s 1ms/step - loss: 0.3751 - accuracy: 0.8541\n",
      "Epoch 71/100\n",
      "20/20 [==============================] - 0s 2ms/step - loss: 0.4260 - accuracy: 0.7876\n",
      "Epoch 72/100\n",
      "20/20 [==============================] - 0s 1ms/step - loss: 0.3916 - accuracy: 0.7875\n",
      "Epoch 73/100\n",
      "20/20 [==============================] - 0s 1ms/step - loss: 0.4354 - accuracy: 0.8134\n",
      "Epoch 74/100\n",
      "20/20 [==============================] - 0s 1ms/step - loss: 0.3204 - accuracy: 0.8923\n",
      "Epoch 75/100\n",
      "20/20 [==============================] - 0s 1ms/step - loss: 0.3640 - accuracy: 0.8948\n",
      "Epoch 76/100\n",
      "20/20 [==============================] - 0s 2ms/step - loss: 0.3712 - accuracy: 0.8385\n",
      "Epoch 77/100\n",
      "20/20 [==============================] - 0s 1ms/step - loss: 0.3460 - accuracy: 0.8560\n",
      "Epoch 78/100\n",
      "20/20 [==============================] - 0s 2ms/step - loss: 0.3948 - accuracy: 0.7767\n",
      "Epoch 79/100\n",
      "20/20 [==============================] - 0s 2ms/step - loss: 0.3918 - accuracy: 0.8411\n",
      "Epoch 80/100\n",
      "20/20 [==============================] - 0s 2ms/step - loss: 0.3570 - accuracy: 0.8334\n",
      "Epoch 81/100\n",
      "20/20 [==============================] - 0s 2ms/step - loss: 0.3848 - accuracy: 0.8572\n",
      "Epoch 82/100\n",
      "20/20 [==============================] - 0s 2ms/step - loss: 0.3675 - accuracy: 0.8600\n",
      "Epoch 83/100\n",
      "20/20 [==============================] - 0s 2ms/step - loss: 0.3472 - accuracy: 0.8489\n",
      "Epoch 84/100\n",
      "20/20 [==============================] - 0s 2ms/step - loss: 0.3941 - accuracy: 0.8422\n",
      "Epoch 85/100\n",
      "20/20 [==============================] - 0s 1ms/step - loss: 0.3594 - accuracy: 0.8322\n",
      "Epoch 86/100\n",
      "20/20 [==============================] - 0s 2ms/step - loss: 0.2803 - accuracy: 0.8768\n",
      "Epoch 87/100\n",
      "20/20 [==============================] - 0s 1ms/step - loss: 0.2711 - accuracy: 0.9013\n",
      "Epoch 88/100\n",
      "20/20 [==============================] - 0s 1ms/step - loss: 0.2809 - accuracy: 0.8997\n",
      "Epoch 89/100\n",
      "20/20 [==============================] - 0s 2ms/step - loss: 0.3058 - accuracy: 0.8632\n",
      "Epoch 90/100\n",
      "20/20 [==============================] - 0s 1ms/step - loss: 0.2888 - accuracy: 0.8856\n",
      "Epoch 91/100\n",
      "20/20 [==============================] - 0s 2ms/step - loss: 0.3536 - accuracy: 0.8471\n",
      "Epoch 92/100\n",
      "20/20 [==============================] - 0s 1ms/step - loss: 0.3796 - accuracy: 0.8345\n",
      "Epoch 93/100\n",
      "20/20 [==============================] - 0s 1ms/step - loss: 0.3516 - accuracy: 0.9010\n",
      "Epoch 94/100\n",
      "20/20 [==============================] - 0s 1ms/step - loss: 0.3086 - accuracy: 0.9054\n",
      "Epoch 95/100\n",
      "20/20 [==============================] - 0s 1ms/step - loss: 0.2507 - accuracy: 0.9024\n",
      "Epoch 96/100\n",
      "20/20 [==============================] - 0s 2ms/step - loss: 0.2798 - accuracy: 0.9253\n",
      "Epoch 97/100\n",
      "20/20 [==============================] - 0s 2ms/step - loss: 0.2799 - accuracy: 0.8829\n",
      "Epoch 98/100\n",
      "20/20 [==============================] - 0s 1ms/step - loss: 0.2430 - accuracy: 0.9427\n",
      "Epoch 99/100\n",
      "20/20 [==============================] - 0s 2ms/step - loss: 0.2717 - accuracy: 0.9095\n",
      "Epoch 100/100\n",
      "20/20 [==============================] - 0s 2ms/step - loss: 0.3152 - accuracy: 0.8635\n",
      "CPU times: user 5.25 s, sys: 875 ms, total: 6.12 s\n",
      "Wall time: 3.92 s\n"
     ]
    },
    {
     "data": {
      "text/plain": [
       "<tensorflow.python.keras.callbacks.History at 0x7f47080a3950>"
      ]
     },
     "execution_count": 19,
     "metadata": {},
     "output_type": "execute_result"
    }
   ],
   "source": [
    "%%time\n",
    "## With Dropout\n",
    "# Defining the architecture of model\n",
    "model_with_dropout = keras.Sequential([\n",
    "    keras.layers.Dense(60, input_dim = 60, activation='relu'), # first dense layer\n",
    "    keras.layers.Dropout(0.5),\n",
    "    \n",
    "    keras.layers.Dense(30, activation = 'relu'), # second dense layer\n",
    "    keras.layers.Dropout(0.5),\n",
    "    \n",
    "    keras.layers.Dense(15, activation = 'relu'), # 3rd dense layer\n",
    "    keras.layers.Dropout(0.5),\n",
    "    \n",
    "    keras.layers.Dense(1, activation = 'sigmoid') # output layer\n",
    "])\n",
    "\n",
    "model_with_dropout.compile(loss = 'binary_crossentropy', optimizer = 'adam', metrics = ['accuracy'])\n",
    "\n",
    "model_with_dropout.fit(X_train, y_train, epochs = 100, batch_size = 8)"
   ]
  },
  {
   "cell_type": "code",
   "execution_count": 20,
   "id": "243a0080",
   "metadata": {
    "execution": {
     "iopub.execute_input": "2021-09-22T13:48:02.907206Z",
     "iopub.status.busy": "2021-09-22T13:48:02.906237Z",
     "iopub.status.idle": "2021-09-22T13:48:03.078464Z",
     "shell.execute_reply": "2021-09-22T13:48:03.077800Z",
     "shell.execute_reply.started": "2021-09-22T13:42:05.220299Z"
    },
    "papermill": {
     "duration": 0.34346,
     "end_time": "2021-09-22T13:48:03.078611",
     "exception": false,
     "start_time": "2021-09-22T13:48:02.735151",
     "status": "completed"
    },
    "tags": []
   },
   "outputs": [
    {
     "name": "stdout",
     "output_type": "stream",
     "text": [
      "5/5 [==============================] - 0s 1ms/step - loss: 0.1771 - accuracy: 0.9423\n"
     ]
    },
    {
     "data": {
      "text/plain": [
       "[0.17709912359714508, 0.942307710647583]"
      ]
     },
     "execution_count": 20,
     "metadata": {},
     "output_type": "execute_result"
    }
   ],
   "source": [
    "# evaluating the model on train data\n",
    "model_with_dropout.evaluate(X_train, y_train)\n",
    "\n",
    "# the accuracy is not 1, thus less chances of overfitting"
   ]
  },
  {
   "cell_type": "code",
   "execution_count": 21,
   "id": "3a4d860d",
   "metadata": {
    "execution": {
     "iopub.execute_input": "2021-09-22T13:48:03.419894Z",
     "iopub.status.busy": "2021-09-22T13:48:03.418853Z",
     "iopub.status.idle": "2021-09-22T13:48:03.507679Z",
     "shell.execute_reply": "2021-09-22T13:48:03.507070Z",
     "shell.execute_reply.started": "2021-09-22T13:41:34.914352Z"
    },
    "papermill": {
     "duration": 0.262136,
     "end_time": "2021-09-22T13:48:03.507826",
     "exception": false,
     "start_time": "2021-09-22T13:48:03.245690",
     "status": "completed"
    },
    "tags": []
   },
   "outputs": [
    {
     "name": "stdout",
     "output_type": "stream",
     "text": [
      "2/2 [==============================] - 0s 3ms/step - loss: 0.5398 - accuracy: 0.7308\n"
     ]
    },
    {
     "data": {
      "text/plain": [
       "[0.5397859811782837, 0.7307692170143127]"
      ]
     },
     "execution_count": 21,
     "metadata": {},
     "output_type": "execute_result"
    }
   ],
   "source": [
    "# evaluating the model on test data\n",
    "model_with_dropout.evaluate(X_test, y_test)"
   ]
  },
  {
   "cell_type": "code",
   "execution_count": 22,
   "id": "84f13981",
   "metadata": {
    "execution": {
     "iopub.execute_input": "2021-09-22T13:48:03.850189Z",
     "iopub.status.busy": "2021-09-22T13:48:03.849571Z",
     "iopub.status.idle": "2021-09-22T13:48:03.964208Z",
     "shell.execute_reply": "2021-09-22T13:48:03.963423Z",
     "shell.execute_reply.started": "2021-09-22T13:45:20.285526Z"
    },
    "papermill": {
     "duration": 0.288025,
     "end_time": "2021-09-22T13:48:03.964430",
     "exception": false,
     "start_time": "2021-09-22T13:48:03.676405",
     "status": "completed"
    },
    "tags": []
   },
   "outputs": [
    {
     "name": "stdout",
     "output_type": "stream",
     "text": [
      "[0.00109255 0.84306324 0.06601304 0.56378424 0.88532424 0.8144927\n",
      " 0.00980562 0.37254006 0.9837078  0.00484139]\n",
      "[0. 1. 0. 1. 1. 1. 0. 0. 1. 0.]\n"
     ]
    }
   ],
   "source": [
    "# predicting some samples\n",
    "y_pred = model_with_dropout.predict(X_test).reshape(-1)\n",
    "print(y_pred[:10])\n",
    "\n",
    "# round the values to nearest integer ie 0 or 1\n",
    "y_pred = np.round(y_pred)\n",
    "print(y_pred[:10])"
   ]
  },
  {
   "cell_type": "code",
   "execution_count": 23,
   "id": "1131feb4",
   "metadata": {
    "execution": {
     "iopub.execute_input": "2021-09-22T13:48:04.304589Z",
     "iopub.status.busy": "2021-09-22T13:48:04.303900Z",
     "iopub.status.idle": "2021-09-22T13:48:04.310030Z",
     "shell.execute_reply": "2021-09-22T13:48:04.310609Z",
     "shell.execute_reply.started": "2021-09-22T13:45:24.757308Z"
    },
    "papermill": {
     "duration": 0.176948,
     "end_time": "2021-09-22T13:48:04.310774",
     "exception": false,
     "start_time": "2021-09-22T13:48:04.133826",
     "status": "completed"
    },
    "tags": []
   },
   "outputs": [
    {
     "data": {
      "text/plain": [
       "5"
      ]
     },
     "execution_count": 23,
     "metadata": {},
     "output_type": "execute_result"
    }
   ],
   "source": [
    "np.sum(np.array(y_test[:10]).reshape(1,-1) == y_pred[:10])\n",
    "# So out of 10, 5 correctly classified"
   ]
  },
  {
   "cell_type": "code",
   "execution_count": 24,
   "id": "79121a9f",
   "metadata": {
    "execution": {
     "iopub.execute_input": "2021-09-22T13:48:04.651114Z",
     "iopub.status.busy": "2021-09-22T13:48:04.650491Z",
     "iopub.status.idle": "2021-09-22T13:48:04.659906Z",
     "shell.execute_reply": "2021-09-22T13:48:04.659247Z",
     "shell.execute_reply.started": "2021-09-22T13:46:16.194833Z"
    },
    "papermill": {
     "duration": 0.180472,
     "end_time": "2021-09-22T13:48:04.660051",
     "exception": false,
     "start_time": "2021-09-22T13:48:04.479579",
     "status": "completed"
    },
    "tags": []
   },
   "outputs": [
    {
     "name": "stdout",
     "output_type": "stream",
     "text": [
      "              precision    recall  f1-score   support\n",
      "\n",
      "           0       0.77      0.71      0.74        28\n",
      "           1       0.69      0.75      0.72        24\n",
      "\n",
      "    accuracy                           0.73        52\n",
      "   macro avg       0.73      0.73      0.73        52\n",
      "weighted avg       0.73      0.73      0.73        52\n",
      "\n"
     ]
    }
   ],
   "source": [
    "# printing the metrics after dropout\n",
    "from sklearn.metrics import classification_report\n",
    "print(classification_report(y_test, y_pred))"
   ]
  },
  {
   "cell_type": "code",
   "execution_count": null,
   "id": "5c601c99",
   "metadata": {
    "papermill": {
     "duration": 0.169803,
     "end_time": "2021-09-22T13:48:05.000924",
     "exception": false,
     "start_time": "2021-09-22T13:48:04.831121",
     "status": "completed"
    },
    "tags": []
   },
   "outputs": [],
   "source": []
  }
 ],
 "metadata": {
  "kernelspec": {
   "display_name": "Python 3",
   "language": "python",
   "name": "python3"
  },
  "language_info": {
   "codemirror_mode": {
    "name": "ipython",
    "version": 3
   },
   "file_extension": ".py",
   "mimetype": "text/x-python",
   "name": "python",
   "nbconvert_exporter": "python",
   "pygments_lexer": "ipython3",
   "version": "3.7.10"
  },
  "papermill": {
   "default_parameters": {},
   "duration": 31.879146,
   "end_time": "2021-09-22T13:48:08.398258",
   "environment_variables": {},
   "exception": null,
   "input_path": "__notebook__.ipynb",
   "output_path": "__notebook__.ipynb",
   "parameters": {},
   "start_time": "2021-09-22T13:47:36.519112",
   "version": "2.3.3"
  }
 },
 "nbformat": 4,
 "nbformat_minor": 5
}
