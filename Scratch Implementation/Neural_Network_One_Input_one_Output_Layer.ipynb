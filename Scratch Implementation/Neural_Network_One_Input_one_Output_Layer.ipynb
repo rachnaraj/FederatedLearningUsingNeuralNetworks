{
  "nbformat": 4,
  "nbformat_minor": 0,
  "metadata": {
    "colab": {
      "name": "Neural_Networks_Single_Layes.ipynb",
      "provenance": []
    },
    "kernelspec": {
      "name": "python3",
      "display_name": "Python 3"
    },
    "language_info": {
      "name": "python"
    }
  },
  "cells": [
    {
      "cell_type": "markdown",
      "metadata": {
        "id": "pqfiuXkLgZD4"
      },
      "source": [
        "**In NN, forward propagation calculation**, \n",
        "*   the number of rows in weight matrix depends --> number of neurons in next layer\n",
        "*   the number of columns in the weight matrix depends --> number of neurons in current layer\n",
        "\n",
        "* Every next layer neuron, will have its own bias i.e., if n+1 layer has 3 neurons then there will be 3 biases\n",
        "\n",
        "*   So, output = W * X ; \n",
        "    *   here W includes the weights associated with each connection among neurons on current layer (nth) and neurons on next layer(n+1 th)\n",
        "    *   X includes the values associated with neurons of current layer (nth)\n",
        "\n",
        "\n",
        "\n",
        "\n"
      ]
    },
    {
      "cell_type": "markdown",
      "metadata": {
        "id": "Islt8OM3Glea"
      },
      "source": [
        "#### N.B: We are not considering any Activation function"
      ]
    },
    {
      "cell_type": "code",
      "metadata": {
        "id": "5k8qtjS4cN_g"
      },
      "source": [
        "# Imporint dependencies\n",
        "import seaborn as sns\n",
        "import numpy as np\n",
        "import seaborn as sns"
      ],
      "execution_count": 1,
      "outputs": []
    },
    {
      "cell_type": "markdown",
      "metadata": {
        "id": "ZWN_UFOjiJiy"
      },
      "source": [
        "**NN with 3 input, 1 output**\n"
      ]
    },
    {
      "cell_type": "code",
      "metadata": {
        "colab": {
          "base_uri": "https://localhost:8080/"
        },
        "id": "e0MxLpssck_o",
        "outputId": "f98ab65b-2dad-45d0-d4a2-e11e7d74af60"
      },
      "source": [
        "inputs = [1.2, 3, 4]\n",
        "weights = [0.2, 0.3, 0.5]\n",
        "bias = 3\n",
        "\n",
        "output_without_af = inputs[0]*weights[0] + inputs[1]*weights[1] + inputs[2]*weights[2] + bias\n",
        "\n",
        "print(output_without_af)"
      ],
      "execution_count": 2,
      "outputs": [
        {
          "output_type": "stream",
          "name": "stdout",
          "text": [
            "6.14\n"
          ]
        }
      ]
    },
    {
      "cell_type": "markdown",
      "metadata": {
        "id": "lGnNLa9yiPz3"
      },
      "source": [
        "**NN with 4 input neurons and 3 output neurons**"
      ]
    },
    {
      "cell_type": "code",
      "metadata": {
        "colab": {
          "base_uri": "https://localhost:8080/"
        },
        "id": "KO3hBYe8eEgh",
        "outputId": "aa9dbd9d-340f-4d7b-d328-85dc969183d5"
      },
      "source": [
        "inputs = [1, 2, 3, 4] # 4 neurons in current layer\n",
        "\n",
        "# 3 weight vectors, each for 1 next layer neuron\n",
        "# Each weight vector holds 4 weights, for each neuron in current layer\n",
        "weight1 = [0.2, 0.3, 0.5, 1.0]\n",
        "weight2 = [0.25, -0.32, 0.15, 1.2]\n",
        "weight3 = [0.98, 0.63, 0.55, 1.8]\n",
        "\n",
        "# each next layer neuron will have one associated bias\n",
        "bias1 = 3\n",
        "bias2 = 2\n",
        "bias3 = 0.4\n",
        "\n",
        "# we will have 3 output, each corresponding to 1 neuron in next layer\n",
        "output_without_af = [inputs[0]*weight1[0] + inputs[1]*weight1[1] + inputs[2]*weight1[2] + inputs[3]*weight1[3] + bias1,\n",
        "                    inputs[0]*weight2[0] + inputs[1]*weight2[1] + inputs[2]*weight2[2] + inputs[3]*weight2[3] + bias2,\n",
        "                    inputs[0]*weight3[0] + inputs[1]*weight3[1] + inputs[2]*weight3[2] + inputs[3]*weight3[3] + bias3]\n",
        "\n",
        "\n",
        "print(output_without_af)"
      ],
      "execution_count": 3,
      "outputs": [
        {
          "output_type": "stream",
          "name": "stdout",
          "text": [
            "[9.3, 6.859999999999999, 11.49]\n"
          ]
        }
      ]
    },
    {
      "cell_type": "markdown",
      "metadata": {
        "id": "sv7C6Y7Yl1Kq"
      },
      "source": [
        "# Numpy Arrays and dot products"
      ]
    },
    {
      "cell_type": "markdown",
      "metadata": {
        "id": "IXZx5p6t1b22"
      },
      "source": [
        "**NN with 3 input, 1 output: Using numpy array**"
      ]
    },
    {
      "cell_type": "code",
      "metadata": {
        "colab": {
          "base_uri": "https://localhost:8080/"
        },
        "id": "tqdd8bQt1e6U",
        "outputId": "0817b01c-b99d-49ae-8290-62c668ed2709"
      },
      "source": [
        "inputs = [1.2, 3, 4] # shape - (3,)\n",
        "weights = [0.2, 0.3, 0.5] # shape - (3,)\n",
        "bias = 3\n",
        "\n",
        "# N.B: **dot product of two vectors results in a single scaler value**\n",
        "output_without_af = np.dot(inputs, weights) + bias\n",
        "\n",
        "print(output_without_af)"
      ],
      "execution_count": 6,
      "outputs": [
        {
          "output_type": "stream",
          "name": "stdout",
          "text": [
            "6.14\n"
          ]
        }
      ]
    },
    {
      "cell_type": "markdown",
      "metadata": {
        "id": "OIP1oA91nX9g"
      },
      "source": [
        "**NN with 4 input neurons and 3 output neurons: Using numpy array**"
      ]
    },
    {
      "cell_type": "code",
      "metadata": {
        "colab": {
          "base_uri": "https://localhost:8080/"
        },
        "id": "BFKTuRaKndr-",
        "outputId": "2fe4c0b9-0ded-407b-b635-1618cfa0f064"
      },
      "source": [
        "import numpy as np \n",
        "\n",
        "inputs = [1.0, 2.0, 3.0, 2.5] # current layer with 4 neurons; shape -- (4,)\n",
        "\n",
        "# 3 weight vectors, each for 1 next layer neuron\n",
        "# Each weight vector holds 4 weights, for each neuron in current layer\n",
        "# shape -- (3,4)\n",
        "weights = [[0.2, 0.8, -0.5, 1.0],\n",
        "           [0.5, -0.91, 0.26, -0.5],\n",
        "           [-0.26, -0.27, 0.17, 0.87]]\n",
        "\n",
        "# each next layer neuron will have one associated weight\n",
        "biases = [2.0, 3.0, 0.5] # shape -- (3,)\n",
        "\n",
        "# dot product of vectors : \n",
        "output_with_vector_dot = [np.dot(weights[0], inputs) + biases[0], \n",
        "                          np.dot(weights[1], inputs) + biases[1], \n",
        "                          np.dot(weights[2], inputs) + biases[2]]\n",
        "\n",
        "\n",
        "# dot product of matrix : Simple and easy lines of codes\n",
        "output_with_matrix_dot = np.dot(weights, inputs) + biases\n",
        "\n",
        "print(output_with_vector_dot)\n",
        "print()\n",
        "print(output_with_matrix_dot)"
      ],
      "execution_count": 8,
      "outputs": [
        {
          "output_type": "stream",
          "name": "stdout",
          "text": [
            "[4.8, 1.21, 2.385]\n",
            "\n",
            "[4.8   1.21  2.385]\n"
          ]
        }
      ]
    },
    {
      "cell_type": "code",
      "metadata": {
        "id": "se2xVjbm0tCO"
      },
      "source": [
        ""
      ],
      "execution_count": null,
      "outputs": []
    }
  ]
}